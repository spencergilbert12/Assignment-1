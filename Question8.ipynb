{
 "cells": [
  {
   "cell_type": "code",
   "execution_count": 14,
   "id": "2bc5cb4f-aee8-4045-b51b-0c522fdd3b2e",
   "metadata": {},
   "outputs": [
    {
     "name": "stdout",
     "output_type": "stream",
     "text": [
      "24.034609838166958\n",
      "<class 'float'>\n"
     ]
    }
   ],
   "source": [
    "#How much Susan weighs in kg\n",
    "weight = 60 \n",
    "#How tall Susan is in meters\n",
    "height = 1.58\n",
    "\n",
    "#Convert weight and height to floats\n",
    "weight = float(weight)\n",
    "height = float(height)\n",
    "\n",
    "#BMI is kg/m^2\n",
    "BMI = weight/height**2\n",
    "\n",
    "#Print answer, verify the type is float\n",
    "print(BMI)\n",
    "print(type(BMI))"
   ]
  },
  {
   "cell_type": "code",
   "execution_count": null,
   "id": "265b2926-ff4e-444b-895d-91c061924fc3",
   "metadata": {},
   "outputs": [],
   "source": []
  }
 ],
 "metadata": {
  "kernelspec": {
   "display_name": "Python 3 (ipykernel)",
   "language": "python",
   "name": "python3"
  },
  "language_info": {
   "codemirror_mode": {
    "name": "ipython",
    "version": 3
   },
   "file_extension": ".py",
   "mimetype": "text/x-python",
   "name": "python",
   "nbconvert_exporter": "python",
   "pygments_lexer": "ipython3",
   "version": "3.12.5"
  }
 },
 "nbformat": 4,
 "nbformat_minor": 5
}
