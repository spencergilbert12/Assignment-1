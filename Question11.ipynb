{
 "cells": [
  {
   "cell_type": "code",
   "execution_count": 3,
   "id": "a7f4b2b4-1a48-4c46-b8f8-6920f630f633",
   "metadata": {},
   "outputs": [
    {
     "name": "stdout",
     "output_type": "stream",
     "text": [
      "2\n"
     ]
    }
   ],
   "source": [
    "#Question 1: Booleans\n",
    "\n",
    "#boolean True + boolean True - boolean False = ?\n",
    "\n",
    "print(bool(True) + bool(True) - bool(False))"
   ]
  },
  {
   "cell_type": "code",
   "execution_count": 16,
   "id": "531f3f14-592c-420a-a100-f3f5723e62a9",
   "metadata": {},
   "outputs": [
    {
     "name": "stdout",
     "output_type": "stream",
     "text": [
      "1\n"
     ]
    }
   ],
   "source": [
    "#Question2: Booleans2\n",
    "\n",
    "\"\"\"\n",
    "logical tracker = True\n",
    "logical tracker = logical tracker & logical tracker\n",
    "logical tracker = logical tracker | (logical tracker - logical tracker)\n",
    "logical tracker  = ?\n",
    "\"\"\"\n",
    "\n",
    "logical_tracker = True\n",
    "logical_tracker = logical_tracker & logical_tracker\n",
    "logical_tracker = logical_tracker | (logical_tracker - logical_tracker)\n",
    "\n",
    "print(logical_tracker)"
   ]
  },
  {
   "cell_type": "code",
   "execution_count": 14,
   "id": "cd4d55eb-f40d-4aeb-9a72-62a20d37e580",
   "metadata": {},
   "outputs": [
    {
     "name": "stdout",
     "output_type": "stream",
     "text": [
      " \n"
     ]
    }
   ],
   "source": [
    "#Question5: Strings\n",
    "\n",
    "#string = \"E. Coli\"\n",
    "#string[2]=\n",
    "\n",
    "string = \"E. Coli\"\n",
    "\n",
    "print(string[2])"
   ]
  },
  {
   "cell_type": "code",
   "execution_count": 15,
   "id": "fb72bbc6-9dce-4012-9f35-72f099cd27f3",
   "metadata": {},
   "outputs": [
    {
     "name": "stdout",
     "output_type": "stream",
     "text": [
      "I Love python\n"
     ]
    }
   ],
   "source": [
    "#Question6: Strings2\n",
    "\n",
    "\"\"\"\n",
    "Oh no! My string has a typo!\n",
    "string = \"I Bove python\"\n",
    "No worries though. I'll just fix that.\n",
    "string[2]=\"L\"\n",
    "\"\"\"\n",
    "\n",
    "string = \"I Bove python\"\n",
    "\n",
    "x = string\n",
    "x = x.replace(\"B\",\"L\")\n",
    "print(x)"
   ]
  },
  {
   "cell_type": "code",
   "execution_count": 17,
   "id": "4f0793f7-b4ba-46e4-8703-1ebc423cd243",
   "metadata": {},
   "outputs": [
    {
     "name": "stdout",
     "output_type": "stream",
     "text": [
      "5\n",
      "23\n"
     ]
    }
   ],
   "source": [
    "#Question9: Operators2\n",
    "\n",
    "#Explain how the \"+\", addition operation works differently for integers and strings.\n",
    "\n",
    "\"\"\"\n",
    "For integers, \"+\" will add the integers together to create their sum. For example, 2+3= 5.\n",
    "For strings, \"+\" will combine the characters together in the output. For example, \"2\"+\"3\"= 23\n",
    "\"\"\"\n",
    "\n",
    "print(2+3)\n",
    "print(\"2\"+\"3\")"
   ]
  },
  {
   "cell_type": "code",
   "execution_count": 18,
   "id": "3640725e-3623-46c5-9809-35d74e051553",
   "metadata": {},
   "outputs": [
    {
     "name": "stdout",
     "output_type": "stream",
     "text": [
      "73\n"
     ]
    }
   ],
   "source": [
    "#Question10: Strings3\n",
    "\n",
    "#Type the output if the strings \"7\" and \"3\" are added.\n",
    "\n",
    "print(\"7\"+\"3\")"
   ]
  },
  {
   "cell_type": "code",
   "execution_count": null,
   "id": "e564170d-15cb-448b-993f-276f487b49fb",
   "metadata": {},
   "outputs": [],
   "source": []
  }
 ],
 "metadata": {
  "kernelspec": {
   "display_name": "Python 3 (ipykernel)",
   "language": "python",
   "name": "python3"
  },
  "language_info": {
   "codemirror_mode": {
    "name": "ipython",
    "version": 3
   },
   "file_extension": ".py",
   "mimetype": "text/x-python",
   "name": "python",
   "nbconvert_exporter": "python",
   "pygments_lexer": "ipython3",
   "version": "3.12.5"
  }
 },
 "nbformat": 4,
 "nbformat_minor": 5
}
